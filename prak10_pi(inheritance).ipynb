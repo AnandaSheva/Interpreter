{
  "nbformat": 4,
  "nbformat_minor": 0,
  "metadata": {
    "colab": {
      "provenance": [],
      "authorship_tag": "ABX9TyO/dYqfPmwjGYahGGxFEgGG",
      "include_colab_link": true
    },
    "kernelspec": {
      "name": "python3",
      "display_name": "Python 3"
    },
    "language_info": {
      "name": "python"
    }
  },
  "cells": [
    {
      "cell_type": "markdown",
      "metadata": {
        "id": "view-in-github",
        "colab_type": "text"
      },
      "source": [
        "<a href=\"https://colab.research.google.com/github/AnandaSheva/Interpreter/blob/main/prak10_pi(inheritance).ipynb\" target=\"_parent\"><img src=\"https://colab.research.google.com/assets/colab-badge.svg\" alt=\"Open In Colab\"/></a>"
      ]
    },
    {
      "cell_type": "code",
      "source": [
        "class Laptop:\n",
        "    def Ngoding(self):\n",
        "        print(\"laptop dipakai ngoding\")\n",
        "class Asus(Laptop):\n",
        "    def Ngoding(self):\n",
        "        print(\"laptop asus dipakai ngoding\")\n",
        "asus = Asus()\n",
        "asus.Ngoding()"
      ],
      "metadata": {
        "colab": {
          "base_uri": "https://localhost:8080/"
        },
        "id": "uxQh3ODbURiW",
        "outputId": "6f6aad0c-11c3-4132-a8a0-1092737d38d5"
      },
      "execution_count": null,
      "outputs": [
        {
          "output_type": "stream",
          "name": "stdout",
          "text": [
            "laptop asus dipakai ngoding\n"
          ]
        }
      ]
    }
  ]
}