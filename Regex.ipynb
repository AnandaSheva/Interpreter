{
  "nbformat": 4,
  "nbformat_minor": 0,
  "metadata": {
    "colab": {
      "provenance": []
    },
    "kernelspec": {
      "name": "python3",
      "display_name": "Python 3"
    },
    "language_info": {
      "name": "python"
    }
  },
  "cells": [
    {
      "cell_type": "markdown",
      "source": [
        "# **Buatlah pola regex tentang plat nomor di lampung**"
      ],
      "metadata": {
        "id": "LdPbzlyQRMfh"
      }
    },
    {
      "cell_type": "code",
      "source": [
        "import re\n",
        "\n",
        "pola = r'^BE\\s\\d{1,4}\\s[F][A-Z]{1,2}$'\n",
        "plat = input(\"Masukkan nomor plat kendaraan : \")\n",
        "\n",
        "\n",
        "if re.match(pola, plat):\n",
        "  print(\"Nomor plat anda Kota Metro\")\n",
        "else :\n",
        "  print(\"Nomor plat anda bukan Kota Metro \")"
      ],
      "metadata": {
        "colab": {
          "base_uri": "https://localhost:8080/"
        },
        "id": "qWtEBNZYRSCa",
        "outputId": "e43df854-3913-4d29-d9a4-ec1dbf554f44"
      },
      "execution_count": 31,
      "outputs": [
        {
          "output_type": "stream",
          "name": "stdout",
          "text": [
            "Masukkan nomor plat kendaraan : BE 3234 FJ\n",
            "Nomor plat anda Kota Metro\n"
          ]
        }
      ]
    },
    {
      "cell_type": "markdown",
      "source": [
        "1.Upper\n",
        "2.Lower\n",
        "3.Title\n",
        "4.Split\n",
        "5.zfill"
      ],
      "metadata": {
        "id": "D2FmW48UM6mf"
      }
    },
    {
      "cell_type": "code",
      "execution_count": null,
      "metadata": {
        "id": "08WK3bgHM4Qa"
      },
      "outputs": [],
      "source": [
        "text = input(\"Masukkan text : \")\n",
        "print(text)\n",
        "masukan = int(input(\"masukkan pilihan : \"))\n",
        "\n",
        "if masukan == 1:\n",
        "  text = text.upper()\n",
        "  print(text)\n",
        "\n",
        "elif masukan == 2:\n",
        "  text = text.lower()\n",
        "  print(text)\n",
        "\n",
        "elif masukan == 3:\n",
        "  text = text.title()\n",
        "  print(text)\n",
        "\n",
        "elif masukan == 4:\n",
        "  hapus = input (\"masukkan karakter yang igin dihapus : \")\n",
        "  text = text.split(hapus)\n",
        "  print(text)\n",
        "\n",
        "elif masukan == 5:\n",
        "  nol = int(input(\"masukkan jumlah maksimal karakter : \"))\n",
        "  text = text.zfill(nol)\n",
        "  print(text)\n"
      ]
    },
    {
      "cell_type": "code",
      "source": [
        "import re\n",
        "\n",
        "awal = input(\"masukkan karakter awal : \")\n",
        "akhir = input(\"masukkan karakter akhir :\")\n",
        "kata = input(\"masukan kata :\")\n",
        "\n",
        "pola = \"^\" + awal + \".\" + akhir + \"$\"\n",
        "hasil = re.match(pola, kata)\n",
        "\n",
        "if hasil:\n",
        "  print(\"ada\")\n",
        "else :\n",
        "  print(\"gaada\")"
      ],
      "metadata": {
        "id": "R-9J0FjQPDuC"
      },
      "execution_count": null,
      "outputs": []
    }
  ]
}